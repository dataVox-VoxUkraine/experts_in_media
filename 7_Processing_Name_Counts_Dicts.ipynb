{
 "cells": [
  {
   "cell_type": "markdown",
   "metadata": {},
   "source": [
    "### 7_Dealing_with_names_counts_dictionaries"
   ]
  },
  {
   "cell_type": "markdown",
   "metadata": {},
   "source": [
    "##### After counting checked unique name mentions and saving this counts to dataframe, we join different name forms and save these name variations to use them for searching later"
   ]
  },
  {
   "cell_type": "code",
   "execution_count": 143,
   "metadata": {},
   "outputs": [],
   "source": [
    "import pandas as pd\n",
    "import re\n",
    "import json\n",
    "from collections import Counter"
   ]
  },
  {
   "cell_type": "markdown",
   "metadata": {},
   "source": [
    "#### Functions for find name variations"
   ]
  },
  {
   "cell_type": "code",
   "execution_count": 115,
   "metadata": {},
   "outputs": [
    {
     "data": {
      "text/plain": [
       "Index(['name', 'num', 'stem_name', 'all_vars_str', 'id'], dtype='object')"
      ]
     },
     "execution_count": 115,
     "metadata": {},
     "output_type": "execute_result"
    }
   ],
   "source": [
    "names_dict_path = 'joined_names_dict.csv'\n",
    "names_counts_df = pd.read_csv(names_dict_path, index_col=[0])\n",
    "names_counts_df.columns"
   ]
  },
  {
   "cell_type": "code",
   "execution_count": 116,
   "metadata": {},
   "outputs": [],
   "source": [
    "names_counts_df['all_vars'] = names_counts_df.all_vars_str.str.split('§')"
   ]
  },
  {
   "cell_type": "code",
   "execution_count": 117,
   "metadata": {},
   "outputs": [],
   "source": [
    "def find_lang_variants(name, used_names, ending = '\\w{,2}', min_len = (1,3)):\n",
    "    \n",
    "    name_var_split = name.split()\n",
    "    if len(name_var_split)==2:\n",
    "        if len(name_var_split[0])>min_len[0] and len(name_var_split[1])>min_len[1]:\n",
    "            name_var = re.sub(r'Во?л(о|а)д', 'Во?л(о|а)д', name_var_split[0])\n",
    "            name_var = re.sub(r'Паве?л', 'Паве?л', name_var)\n",
    "            name_var = re.sub(r'Фед(і|о)р', 'Фед(і|о)р', name_var)\n",
    "            name_var = re.sub(r'В\\'?яч', 'В\\'?яч', name_var)\n",
    "            name_var = re.sub(r'Генн?ад', 'Генн?ад', name_var)\n",
    "            name_var = re.sub(r'Кон?ст(я|а)нт', 'Кон?ст(я|а)нт', name_var)\n",
    "            name_var = re.sub(r'(Е|О)лен', '(Е|О)лен', name_var)\n",
    "            name_var = re.sub(r'(М|Н)ик', '(М|Н)ик', name_var)\n",
    "            name_var = re.sub(r'(О|А)л(е|є|э)кс', '(О|А)л(е|є|э)кс', name_var)\n",
    "            name_var = re.sub(r'(Х|К)рист', '(Х|К)рист', name_var)\n",
    "            name_var = re.sub(r'Св(і|е)тл', 'Св(і|е)тл', name_var)\n",
    "            name_var = re.sub(r'Е?(К|к)атер', 'Е?(К|к)атер', name_var)\n",
    "            name_var = re.sub(r'Уль?я', 'Уль?я', name_var)\n",
    "\n",
    "            if name_var != name_var_split[0]:\n",
    "                upd_part = name_var_split[1]\n",
    "            else:\n",
    "                upd_part = name\n",
    "\n",
    "            upd_part = re.sub(r'[ІИЇЙ]', '(І|И|Ї|Й)', upd_part)\n",
    "            upd_part = re.sub(r'[ГХҐ]', '(Г|Х|Ґ)', upd_part)\n",
    "            upd_part = re.sub(r'[хгґ]', '(х|г|ґ)', upd_part)\n",
    "            upd_part = re.sub(r'[іиїйы]', '(і|и|ї|й|ы)', upd_part)\n",
    "            upd_part = re.sub(r'[ЕЄЭ]', '(Є|Е|Э)', upd_part)\n",
    "            upd_part = re.sub(r'[еєэ]', '(е|є|э)', upd_part)\n",
    "            upd_part = re.sub(r'сь?к', 'сь?к', upd_part)\n",
    "            upd_part = re.sub(r'ць?к', 'ць?к', upd_part)\n",
    "\n",
    "            if name_var != name_var_split[0]:\n",
    "                upd_part = name_var + '?\\w{,1} ' + upd_part + ending\n",
    "            else:\n",
    "                new_split = upd_part.split()\n",
    "                upd_part = new_split[0] + '?\\w{,1} ' + new_split[1] + ending\n",
    "\n",
    "            used_names.append(name)\n",
    "           \n",
    "            try:\n",
    "                variants = list(names_counts_df[(~names_counts_df.name.isin(used_names))&(names_counts_df.name.str.contains(rf'^{upd_part}$'))].name.values)\n",
    "            except Exception as e:\n",
    "                print(e)\n",
    "                print(name, ':', upd_part)\n",
    "                return None\n",
    "\n",
    "            if len(variants) > 0:\n",
    "                used_names += variants\n",
    "                return variants\n",
    "    return None"
   ]
  },
  {
   "cell_type": "code",
   "execution_count": 118,
   "metadata": {},
   "outputs": [
    {
     "name": "stderr",
     "output_type": "stream",
     "text": [
      "/Users/oksana/Dev/TextClassification/venv/lib/python3.7/site-packages/pandas/core/strings/accessor.py:101: UserWarning: This pattern has match groups. To actually get the groups, use str.extract.\n",
      "  return func(self, *args, **kwargs)\n"
     ]
    }
   ],
   "source": [
    "used_names = []\n",
    "lang_vars = names_counts_df[names_counts_df.num>3].name.apply(lambda x: find_lang_variants(x, used_names))"
   ]
  },
  {
   "cell_type": "code",
   "execution_count": 124,
   "metadata": {},
   "outputs": [
    {
     "data": {
      "text/plain": [
       "2                                 [Денисш Шмигал]\n",
       "6                              [Володимир Путіна]\n",
       "13                                  [Алекс Даныл]\n",
       "34                                 [Анґел Меркел]\n",
       "36                                  [Сер Марченк]\n",
       "                           ...                   \n",
       "115460    [Метт Лебланк, Метт Леблан, Мет Леблан]\n",
       "115462                          [Деніс Хмілевськ]\n",
       "115463                             [Майкл Патрик]\n",
       "115469                          [Вячеслав Маслюк]\n",
       "115471                             [Артур Білоус]\n",
       "Name: name, Length: 655, dtype: object"
      ]
     },
     "execution_count": 124,
     "metadata": {},
     "output_type": "execute_result"
    }
   ],
   "source": [
    "lang_vars[lang_vars.notna()]"
   ]
  },
  {
   "cell_type": "code",
   "execution_count": 119,
   "metadata": {},
   "outputs": [],
   "source": [
    "def find_contains_variants(name, used_names, min_len = (1,3)):\n",
    "    name_var_split = name.split()\n",
    "    if len(name_var_split)==2:\n",
    "        if len(name_var_split[0])>min_len[0] and len(name_var_split[1])>min_len[1]:\n",
    "            used_names.append(name)\n",
    "            try:\n",
    "                variants = list(names_counts_df[(~names_counts_df.name.isin(used_names))&(names_counts_df.name.str.contains(name))].name.values)\n",
    "            except Exception as e:\n",
    "                print(e)\n",
    "                print(name)\n",
    "                return None\n",
    "            \n",
    "            if len(variants) > 0:\n",
    "                used_names += variants\n",
    "                return variants\n",
    "    return None"
   ]
  },
  {
   "cell_type": "code",
   "execution_count": 120,
   "metadata": {},
   "outputs": [],
   "source": [
    "used_names2 = []\n",
    "cont_vars = names_counts_df[names_counts_df.num>3].name.apply(lambda x: find_contains_variants(x, used_names2))"
   ]
  },
  {
   "cell_type": "code",
   "execution_count": 122,
   "metadata": {},
   "outputs": [
    {
     "data": {
      "text/plain": [
       "0         [Офіс Володимир Зеленськ, йшло під час нарад п...\n",
       "1                                         [Соз Макс Степан]\n",
       "2                            [Кабінет міністр Денис Шмигал]\n",
       "4         [Джо Байден / Фот : Flickr, Джо Байден 46-м пр...\n",
       "6         [Володимир Путіна, Володимир Путін Віктор Медв...\n",
       "                                ...                        \n",
       "115388                                         [Паул Дибал]\n",
       "115396                                        [Ар Зограбян]\n",
       "115424                             [Колишн Козловськ Рамін]\n",
       "115449                        [Фот з інстаграм Тесс Голлід]\n",
       "115463                                  [Майкл Патрік Кінг]\n",
       "Name: name, Length: 385, dtype: object"
      ]
     },
     "execution_count": 122,
     "metadata": {},
     "output_type": "execute_result"
    }
   ],
   "source": [
    "cont_vars[cont_vars.notna()]"
   ]
  },
  {
   "cell_type": "code",
   "execution_count": 125,
   "metadata": {},
   "outputs": [],
   "source": [
    "names_counts_df['vars1'] = None\n",
    "names_counts_df['vars2'] = None\n",
    "\n",
    "names_counts_df.vars1.update(lang_vars)\n",
    "names_counts_df.vars2.update(cont_vars)"
   ]
  },
  {
   "cell_type": "code",
   "execution_count": 126,
   "metadata": {},
   "outputs": [],
   "source": [
    "names_counts_df = names_counts_df.set_index('name', drop=False)"
   ]
  },
  {
   "cell_type": "code",
   "execution_count": 127,
   "metadata": {},
   "outputs": [],
   "source": [
    "def add_same_names_counts(names_counts_df, variants):\n",
    "    res_df = pd.DataFrame(columns=list(names_counts_df.columns)+['adj_names'])\n",
    "    for i, r in names_counts_df[names_counts_df[variants].notna()].iterrows():\n",
    "        names_list = [r.name] + r[variants]\n",
    "        for sec_name in r[variants]:\n",
    "            try:\n",
    "                sec_vars = names_counts_df.loc[sec_name, variants]\n",
    "            except:\n",
    "                print(i, sec_name)\n",
    "                continue   \n",
    "            if isinstance(sec_vars, list):\n",
    "                names_list += sec_vars\n",
    "\n",
    "        res_df.loc[r.name] = names_counts_df[names_counts_df.name.isin(names_list)].sum()\n",
    "        names_list.remove(r.name)\n",
    "        res_df.loc[r.name, 'adj_names'] = '§'.join(names_list)\n",
    "    return res_df"
   ]
  },
  {
   "cell_type": "code",
   "execution_count": 133,
   "metadata": {
    "collapsed": true
   },
   "outputs": [
    {
     "name": "stdout",
     "output_type": "stream",
     "text": [
      "Володимир Путін Володимир Путіна\n",
      "Мірч Луческ Мірч Луческе\n",
      "Борис Філат Борис Філатов\n",
      "Ольг Михайл Ольг Михайлюк\n",
      "Олександр Старух Олександр Старухін\n",
      "Віктор Петр Віктор Петрук\n",
      "Олександр Щерб Олександр Щербук\n",
      "Олег Синєгуб Олег Синєгубов\n",
      "Серг Іван Серг Іванов\n",
      "Серг Черн Серг Чернег\n",
      "Олександр Денис Олександр Денисов\n",
      "Александр Мясник Александр Мясников\n",
      "Олександр Борняк Олександр Борняков\n",
      "Дмитр Раим Дмитр Раимов\n",
      "Дан Богатыр Дан Богатырев\n",
      "Михайл Булгак Михайл Булгаков\n",
      "Майкл Макфол Майкл Макфолл\n",
      "Богдан Цимбал Богдан Цимбалюк\n",
      "Дмитр Шпен Дмитр Шпенов\n",
      "Віктор Андрус Віктор Андрусів\n",
      "Ан Колесник Ан Колесников\n",
      "Олександр Сладк Олександр Сладков\n",
      "Віктор Ткач Віктор Ткачук\n",
      "Віктор Черн Віктор Черниш\n",
      "Віктор Черн Віктор Черняк\n",
      "Олександр Лукаш Олександр Лукашук\n",
      "Андр Аксьон Андр Аксьонов\n",
      "Борис Колеснік Борис Колесніков\n",
      "Олександр Петр Олександр Петрун\n",
      "Дмитр Іван Дмитр Іванц\n",
      "Олен Борис Олен Борисенк\n",
      "Андр Черн Андр Чернец\n",
      "Кат Репях Кат Репяхов\n",
      "Юр Сула Юр Сулаев\n",
      "Серг Сорок Серг Сорокін\n",
      "Серг Сорок Серг Сорокин\n",
      "Тумс Абдурахман Тумс Абдурахманов\n",
      "Михайл Богдан Михайл Богданов\n",
      "Одр Штраус Одр Штраусс\n",
      "Алекс Якут Алекс Якутов\n",
      "Олег Турк Олег Туркас\n",
      "Соф Тарас Соф Тарасюк\n",
      "Світлан Іван Світлан Іваньк\n",
      "Алекс Волк Алекс Волков\n",
      "Андр Карп Андр Карпец\n",
      "Ольг Іван Ольг Іванц\n",
      "Серг Капк Серг Капкан\n",
      "Олег Слободян Олег Слободяник\n",
      "Брун Леск Брун Леску\n",
      "Габор Кубат Габор Кубатов\n",
      "Натал Байда Натал Байдалк\n",
      "Валентин Петряк Валентин Петряков\n",
      "Денис Демк Денис Демків\n",
      "Джонатан Конрікус Джонатан Конрікуст\n",
      "Ильназ Галяв Ильназ Галявиев\n",
      "Джефф Беннет Джефф Беннетт\n",
      "Анастас Михайл Анастас Михайлов\n",
      "Джим Сміт Джим Смітт\n",
      "Ален Шиллер Ален Шиллеров\n",
      "Олег Гаврил Олег Гаврилюк\n",
      "Нафтал Беннет Нафтал Беннетт\n",
      "Анастас Влас Анастас Власов\n",
      "Константинос Іоан Константинос Іоанн\n",
      "Галин Попц Галин Попцов\n",
      "Євген Полтавц Євген Полтавцев\n",
      "Сев Дагдел Сев Дагделен\n",
      "Юр Комельк Юр Комельков\n",
      "Паул Диба Паул Дибал\n",
      "Ар Зограбя Ар Зограбян\n"
     ]
    }
   ],
   "source": [
    "sum_df = add_same_names_counts(names_counts_df, 'vars2')\n",
    "sum_df['adj_list'] = sum_df.adj_names.str.split('§')"
   ]
  },
  {
   "cell_type": "code",
   "execution_count": 129,
   "metadata": {},
   "outputs": [],
   "source": [
    "backup = names_counts_df.copy()"
   ]
  },
  {
   "cell_type": "code",
   "execution_count": 44,
   "metadata": {},
   "outputs": [],
   "source": [
    "# names_counts_df = backup.copy()"
   ]
  },
  {
   "cell_type": "code",
   "execution_count": 195,
   "metadata": {},
   "outputs": [
    {
     "data": {
      "text/plain": [
       "(127495, 10)"
      ]
     },
     "execution_count": 195,
     "metadata": {},
     "output_type": "execute_result"
    }
   ],
   "source": [
    "names_counts_df.shape"
   ]
  },
  {
   "cell_type": "code",
   "execution_count": 135,
   "metadata": {},
   "outputs": [],
   "source": [
    "variants = 'vars2'\n",
    "deleted = []\n",
    "for i, r in names_counts_df[names_counts_df[variants].notna()].iterrows():\n",
    "    if r.name not in deleted:\n",
    "        adj = sum_df.loc[r.name, 'adj_list']\n",
    "        names_counts_df = names_counts_df[~names_counts_df.name.isin(adj)] \n",
    "        deleted += adj\n",
    "        names_counts_df.loc[r.name, 'num'] = sum_df.loc[r.name, 'num']\n",
    "        for adj_name in sum_df.loc[r.name, 'adj_list']:\n",
    "            names_counts_df.loc[r.name, variants].append(adj_name)"
   ]
  },
  {
   "cell_type": "code",
   "execution_count": 137,
   "metadata": {},
   "outputs": [],
   "source": [
    "def join_two_vars(var1, var2):\n",
    "    if isinstance(var1, list) and isinstance(var2, list):\n",
    "        return list(set(var1+var2))\n",
    "    elif isinstance(var1, list):\n",
    "        return list(set(var1))\n",
    "    elif isinstance(var2, list):\n",
    "        return list(set(var2))\n",
    "    else:\n",
    "        return None"
   ]
  },
  {
   "cell_type": "code",
   "execution_count": 138,
   "metadata": {},
   "outputs": [],
   "source": [
    "names_counts_df['vars3'] = names_counts_df.apply(lambda row: join_two_vars(row.vars1, row.vars2), axis=1)\n",
    "names_counts_df['all_vars_joined'] = names_counts_df.apply(lambda row: two_vars(row.join_two_vars, row.vars3), axis=1)"
   ]
  },
  {
   "cell_type": "code",
   "execution_count": 79,
   "metadata": {},
   "outputs": [
    {
     "data": {
      "text/plain": [
       "Index(['name', 'num', 'stem_name', 'all_vars_str', 'id', 'vars1', 'vars2',\n",
       "       'all_vars', 'vars3', 'all_vars_joined'],\n",
       "      dtype='object')"
      ]
     },
     "execution_count": 79,
     "metadata": {},
     "output_type": "execute_result"
    }
   ],
   "source": [
    "names_counts_df.columns"
   ]
  },
  {
   "cell_type": "code",
   "execution_count": 149,
   "metadata": {},
   "outputs": [],
   "source": [
    "names_counts_df['all_vars'] = names_counts_df['all_vars_joined']\n",
    "names_counts_df['all_vars_str'] = names_counts_df.all_vars.str.join('§')"
   ]
  },
  {
   "cell_type": "code",
   "execution_count": 202,
   "metadata": {},
   "outputs": [
    {
     "data": {
      "text/plain": [
       "Index(['name', 'num', 'stem_name', 'all_vars_str', 'id', 'all_vars', 'vars1',\n",
       "       'vars2', 'vars3', 'all_vars_joined'],\n",
       "      dtype='object')"
      ]
     },
     "execution_count": 202,
     "metadata": {},
     "output_type": "execute_result"
    }
   ],
   "source": [
    "names_counts_df.columns"
   ]
  },
  {
   "cell_type": "code",
   "execution_count": 203,
   "metadata": {},
   "outputs": [],
   "source": [
    "names_counts_df[['name', 'num', 'stem_name', 'all_vars_str', 'id']].to_csv(names_dict_path)"
   ]
  },
  {
   "cell_type": "code",
   "execution_count": null,
   "metadata": {},
   "outputs": [],
   "source": [
    "s = pd.Series(index=names_counts_df.index)\n",
    "s = s.apply(lambda x: [] if x!=x else [])\n",
    "\n",
    "names_counts_df['all_vars'] = names_counts_df['vars1'].fillna(s) + names_counts_df['vars2'].fillna(s)\n",
    "\n",
    "names_counts_df['all_vars'] = names_counts_df.all_vars_str.str.split('§')\n",
    "\n",
    "names_counts_df['all_vars'] = names_counts_df['all_vars'].apply(lambda x: list(set(x)) if isinstance(x,list) else None)"
   ]
  },
  {
   "cell_type": "code",
   "execution_count": 197,
   "metadata": {},
   "outputs": [
    {
     "data": {
      "text/plain": [
       "13867"
      ]
     },
     "execution_count": 197,
     "metadata": {},
     "output_type": "execute_result"
    }
   ],
   "source": [
    "flat_list = [item for sublist in list(names_counts_df[names_counts_df.all_vars.notna()].all_vars.values) for item in sublist]\n",
    "len(flat_list)"
   ]
  },
  {
   "cell_type": "code",
   "execution_count": 199,
   "metadata": {},
   "outputs": [
    {
     "data": {
      "text/html": [
       "<div>\n",
       "<style scoped>\n",
       "    .dataframe tbody tr th:only-of-type {\n",
       "        vertical-align: middle;\n",
       "    }\n",
       "\n",
       "    .dataframe tbody tr th {\n",
       "        vertical-align: top;\n",
       "    }\n",
       "\n",
       "    .dataframe thead th {\n",
       "        text-align: right;\n",
       "    }\n",
       "</style>\n",
       "<table border=\"1\" class=\"dataframe\">\n",
       "  <thead>\n",
       "    <tr style=\"text-align: right;\">\n",
       "      <th></th>\n",
       "      <th>name</th>\n",
       "      <th>num</th>\n",
       "      <th>stem_name</th>\n",
       "      <th>all_vars_str</th>\n",
       "      <th>id</th>\n",
       "      <th>all_vars</th>\n",
       "      <th>vars1</th>\n",
       "      <th>vars2</th>\n",
       "      <th>vars3</th>\n",
       "      <th>all_vars_joined</th>\n",
       "    </tr>\n",
       "    <tr>\n",
       "      <th>name</th>\n",
       "      <th></th>\n",
       "      <th></th>\n",
       "      <th></th>\n",
       "      <th></th>\n",
       "      <th></th>\n",
       "      <th></th>\n",
       "      <th></th>\n",
       "      <th></th>\n",
       "      <th></th>\n",
       "      <th></th>\n",
       "    </tr>\n",
       "  </thead>\n",
       "  <tbody>\n",
       "  </tbody>\n",
       "</table>\n",
       "</div>"
      ],
      "text/plain": [
       "Empty DataFrame\n",
       "Columns: [name, num, stem_name, all_vars_str, id, all_vars, vars1, vars2, vars3, all_vars_joined]\n",
       "Index: []"
      ]
     },
     "execution_count": 199,
     "metadata": {},
     "output_type": "execute_result"
    }
   ],
   "source": [
    "names_counts_df[names_counts_df.index.isin(flat_list)]"
   ]
  },
  {
   "cell_type": "code",
   "execution_count": 56,
   "metadata": {},
   "outputs": [],
   "source": [
    "# names_counts_df = names_counts_df[~names_counts_df.index.isin(flat_list)]"
   ]
  },
  {
   "cell_type": "code",
   "execution_count": 201,
   "metadata": {},
   "outputs": [],
   "source": [
    "names_counts_df = clean_up(names_counts_df)"
   ]
  },
  {
   "cell_type": "markdown",
   "metadata": {},
   "source": [
    "#### Joining dicts"
   ]
  },
  {
   "cell_type": "code",
   "execution_count": 5,
   "metadata": {},
   "outputs": [],
   "source": [
    "def check_presence(name):\n",
    "    nf = re.escape(name)\n",
    "    pat = rf'§{nf}§|^{nf}§|§{nf}$|^{nf}$'\n",
    "    res = part2[part2.all_vars_str.str.contains(pat)]\n",
    "    return len(res)\n",
    "\n",
    "# q = winter_names_counts_df.stem_name.apply(check_presence)"
   ]
  },
  {
   "cell_type": "code",
   "execution_count": 200,
   "metadata": {},
   "outputs": [],
   "source": [
    "def clean_up(joined_df):\n",
    "    joined_df['all_vars_str'] = joined_df.all_vars.str.join('§')\n",
    "    joined_df['all_vars'] = joined_df.all_vars_str.str.split('§')\n",
    "    joined_df['all_vars'] = joined_df['all_vars'].apply(lambda x: list(set(x)) if isinstance(x,list) else None)\n",
    "    joined_df['all_vars_str'] = joined_df.all_vars.str.join('§')\n",
    "    return joined_df"
   ]
  },
  {
   "cell_type": "markdown",
   "metadata": {},
   "source": [
    "#### Fix names in dicts"
   ]
  },
  {
   "cell_type": "code",
   "execution_count": 210,
   "metadata": {},
   "outputs": [],
   "source": [
    "def fix_name(joined_df, to_del, to_expand, re_flag):\n",
    "    if not re_flag:\n",
    "        try:\n",
    "            to_del_part = joined_df.loc[to_del]\n",
    "        except KeyError:\n",
    "            print(to_del, 'was already fixed')\n",
    "            return joined_df\n",
    "        try:\n",
    "            joined_df.loc[to_expand, 'all_vars'].append(to_del)\n",
    "            joined_df['all_vars_str'] = joined_df.all_vars.str.join('§')\n",
    "        except AttributeError:\n",
    "            joined_df.loc[to_expand, 'all_vars_str'] = to_del\n",
    "            joined_df['all_vars'] = joined_df.all_vars_str.str.split('§')\n",
    "            \n",
    "        joined_df.loc[to_expand, 'num'] += to_del_part.num\n",
    "        if isinstance(to_del_part.all_vars, list):\n",
    "            for n in to_del_part.all_vars:\n",
    "                joined_df.loc[to_expand, 'all_vars'].append(n)\n",
    "            joined_df['all_vars_str'] = joined_df.all_vars.str.join('§')\n",
    "        joined_df = joined_df[joined_df.index!=to_del]\n",
    "                \n",
    "    else:\n",
    "        to_del_part = joined_df[(joined_df.index!=to_expand)&joined_df.index.str.contains(to_del)].copy()\n",
    "        for i,r in to_del_part.iterrows():\n",
    "            joined_df.loc[to_expand, 'all_vars'].append(i)\n",
    "            joined_df['all_vars_str'] = joined_df.all_vars.str.join('§')\n",
    "            joined_df.loc[to_expand, 'num'] += r.num\n",
    "            if isinstance(r.all_vars, list):\n",
    "                for n in r.all_vars:\n",
    "                    joined_df.loc[to_expand, 'all_vars'].append(n)\n",
    "                joined_df['all_vars_str'] = joined_df.all_vars.str.join('§')\n",
    "        joined_df = joined_df[~joined_df.index.isin(to_del_part.index.values)]\n",
    "        del to_del_part\n",
    "    \n",
    "    return joined_df"
   ]
  },
  {
   "cell_type": "code",
   "execution_count": 33,
   "metadata": {},
   "outputs": [
    {
     "data": {
      "text/plain": [
       "num                          3.0\n",
       "stem_name       Королев Єлизавет\n",
       "all_vars_str                 NaN\n",
       "id                       18527.0\n",
       "all_vars                     NaN\n",
       "Name: Королев Єлизавет, dtype: object"
      ]
     },
     "execution_count": 33,
     "metadata": {},
     "output_type": "execute_result"
    }
   ],
   "source": [
    "names_counts_df.loc['Королев Єлизавет']"
   ]
  },
  {
   "cell_type": "code",
   "execution_count": 47,
   "metadata": {},
   "outputs": [],
   "source": [
    "fix_dict = json.load(open('fix_dict.json'))"
   ]
  },
  {
   "cell_type": "code",
   "execution_count": 269,
   "metadata": {},
   "outputs": [],
   "source": [
    "names_counts_df = fix_name(names_counts_df, ': Шмигал', 'Біньямін Нетаньях', False)"
   ]
  },
  {
   "cell_type": "code",
   "execution_count": 48,
   "metadata": {
    "collapsed": true
   },
   "outputs": [
    {
     "name": "stdout",
     "output_type": "stream",
     "text": [
      "(114920, 5)\n",
      "Серг Комиссаренк was already fixed\n",
      "(114920, 5)\n",
      "(114920, 5)\n",
      "Вооз Тедрос Гебреєсус was already fixed\n",
      "(114920, 5)\n",
      "(114920, 5)\n",
      "Адан Гебрейесус was already fixed\n",
      "(114920, 5)\n",
      "(114920, 5)\n",
      "Тедрос Адхан Гебреєсус was already fixed\n",
      "(114920, 5)\n",
      "(114920, 5)\n",
      "Питер Бен was already fixed\n",
      "(114920, 5)\n",
      "(114920, 5)\n",
      "Майкл Раян was already fixed\n",
      "(114920, 5)\n",
      "(114920, 5)\n",
      "Маск Степан was already fixed\n",
      "(114920, 5)\n",
      "(114920, 5)\n",
      "Адхан Гебреесус was already fixed\n",
      "(114920, 5)\n",
      "(114920, 5)\n",
      "Серг Бесараб was already fixed\n",
      "(114920, 5)\n",
      "(114920, 5)\n",
      "Владислав Молчан was already fixed\n",
      "(114920, 5)\n",
      "(114920, 5)\n",
      "Професорк Більченк was already fixed\n",
      "(114920, 5)\n",
      "(114920, 5)\n",
      "Драгоман Більченк was already fixed\n",
      "(114920, 5)\n",
      "(114920, 5)\n",
      "звільнят Більченк was already fixed\n",
      "(114920, 5)\n",
      "(114920, 5)\n",
      "Ощасливлен Більченк was already fixed\n",
      "(114920, 5)\n",
      "(114920, 5)\n",
      "* Більченк was already fixed\n",
      "(114920, 5)\n",
      "(114920, 5)\n",
      "Більченк Дробот was already fixed\n",
      "(114920, 5)\n",
      "(114920, 5)\n",
      "Заяв Більченк was already fixed\n",
      "(114920, 5)\n",
      "(114920, 5)\n",
      "Викладачк Більченк was already fixed\n",
      "(114920, 5)\n",
      "(114920, 5)\n",
      "Поетес Більченк was already fixed\n",
      "(114920, 5)\n",
      "(114920, 5)\n",
      "Андр Кобол was already fixed\n",
      "(114920, 5)\n",
      "(114920, 5)\n",
      "Коболєв was already fixed\n",
      "(114920, 5)\n",
      "(114920, 5)\n",
      "Коболев was already fixed\n",
      "(114920, 5)\n",
      "(114920, 5)\n",
      "Йост Люнгма was already fixed\n",
      "(114920, 5)\n",
      "(114920, 5)\n",
      "Люнгман was already fixed\n",
      "(114920, 5)\n",
      "(114920, 5)\n",
      "Игор Смелянск was already fixed\n",
      "(114920, 5)\n",
      "(114920, 5)\n",
      "Алекс Билошицк was already fixed\n",
      "(114920, 5)\n",
      "(114920, 5)\n",
      "Миха Волынец was already fixed\n",
      "(114920, 5)\n",
      "(114920, 5)\n",
      "Нацполіці Ігор Клименк was already fixed\n",
      "(114920, 5)\n",
      "(114920, 5)\n",
      "Гол Нацполіці Ігор Клименк was already fixed\n",
      "(114920, 5)\n",
      "(114920, 5)\n",
      "Керівник Нацполіці Ігор Клименк was already fixed\n",
      "(114920, 5)\n",
      "(114920, 5)\n",
      "глав Нацполіці Ігор Клименк was already fixed\n",
      "(114920, 5)\n",
      "(114920, 5)\n",
      "голов Нацполіці Ігор Клименк was already fixed\n",
      "(114920, 5)\n",
      "(114920, 5)\n",
      "Нпу Ігор Клименк was already fixed\n",
      "(114920, 5)\n",
      "(114920, 5)\n",
      "Гол Нацоліці Ігор Клименк was already fixed\n",
      "(114920, 5)\n",
      "(114920, 5)\n",
      "Нацполиц Клименк was already fixed\n",
      "(114920, 5)\n",
      "(114920, 5)\n",
      "Нацполіці Клименк was already fixed\n",
      "(114920, 5)\n",
      "(114920, 5)\n",
      "адвокат Рыбин was already fixed\n",
      "(114920, 5)\n",
      "(114920, 5)\n",
      "Валентнин Рибін was already fixed\n",
      "(114920, 5)\n",
      "(114920, 5)\n",
      "Адвокат Шар Валентин Рибін was already fixed\n",
      "(114920, 5)\n",
      "(114920, 5)\n",
      "Вад Кобз was already fixed\n",
      "(114920, 5)\n",
      "(114920, 5)\n",
      "Жеральд Дарман was already fixed\n",
      "(114920, 5)\n",
      "(114920, 5)\n",
      "Михайл Єфрем was already fixed\n",
      "(114920, 5)\n",
      "(114920, 5)\n",
      "Ильх Ал was already fixed\n",
      "(114920, 5)\n",
      "(114920, 5)\n",
      "Йозвяк was already fixed\n",
      "(114920, 5)\n",
      "(114920, 5)\n",
      "Ріккард Йозвяк was already fixed\n",
      "(114920, 5)\n",
      "(114920, 5)\n",
      "Хантер Байден was already fixed\n",
      "(114920, 5)\n",
      "(114920, 5)\n",
      "Трухан was already fixed\n",
      "(114920, 5)\n",
      "(114920, 5)\n",
      "Кабинет министр Олег Немчин was already fixed\n",
      "(114920, 5)\n",
      "(114920, 5)\n",
      "Кабинет Министр Олег Немчин was already fixed\n",
      "(114920, 5)\n",
      "(114920, 5)\n",
      "Кабмин Немчин was already fixed\n",
      "(114920, 5)\n",
      "(114920, 5)\n",
      "Міністр Кабінет Міністр Олег Немчин was already fixed\n",
      "(114920, 5)\n",
      "(114920, 5)\n",
      "Оп Татар was already fixed\n",
      "(114920, 5)\n",
      "(114920, 5)\n",
      "Епифан was already fixed\n",
      "(114920, 5)\n",
      "(114920, 5)\n",
      "Арс Жумадил was already fixed\n",
      "(114920, 5)\n",
      "(114920, 5)\n",
      "Жумадилов was already fixed\n",
      "(114920, 5)\n",
      "(114920, 5)\n",
      "Жумадил was already fixed\n",
      "(114920, 5)\n",
      "(114920, 5)\n",
      "Медзакупок Жумадил was already fixed\n",
      "(114920, 5)\n",
      "(114920, 5)\n",
      "Гейтс was already fixed\n",
      "(114920, 5)\n",
      "(114920, 5)\n",
      "Немчін was already fixed\n",
      "(114920, 5)\n",
      "(114920, 5)\n",
      "Олег Немчін was already fixed\n",
      "(114920, 5)\n",
      "(114920, 5)\n",
      "Ляйен was already fixed\n",
      "(114920, 5)\n",
      "(114920, 5)\n",
      "Ляйєн was already fixed\n",
      "(114920, 5)\n",
      "(114920, 5)\n",
      "Зеленськ was already fixed\n",
      "(114920, 5)\n",
      "(114920, 5)\n",
      "Зеленск was already fixed\n",
      "(114920, 5)\n",
      "(114920, 5)\n",
      "Трамп was already fixed\n",
      "(114920, 5)\n",
      "(114920, 5)\n",
      "Ляєн was already fixed\n",
      "(114920, 5)\n",
      "(114920, 5)\n",
      "Байден was already fixed\n",
      "(114920, 5)\n",
      "(114920, 5)\n",
      "Шмигал was already fixed\n",
      "(114920, 5)\n",
      "(114920, 5)\n",
      "Максим Степанов was already fixed\n",
      "(114920, 5)\n",
      "(114920, 5)\n",
      "Джо Байд was already fixed\n",
      "(114920, 5)\n",
      "(114920, 5)\n",
      "Президент Байден was already fixed\n",
      "(114920, 5)\n",
      "(114920, 5)\n",
      "Путін was already fixed\n",
      "(114920, 5)\n",
      "(114920, 5)\n",
      "Путин was already fixed\n",
      "(114920, 5)\n",
      "(114920, 5)\n",
      "Игор Добруцк was already fixed\n",
      "(114920, 5)\n",
      "(114920, 5)\n",
      "Васил Невмержицк was already fixed\n",
      "(114920, 5)\n",
      "(114920, 5)\n",
      "Никола Поворозник was already fixed\n",
      "(114920, 5)\n",
      "(114920, 5)\n",
      "Христ Гроз was already fixed\n",
      "(114920, 5)\n",
      "(114920, 5)\n",
      "Янин Соколов was already fixed\n",
      "(114920, 5)\n",
      "(114920, 5)\n",
      "Светла Тихановск was already fixed\n",
      "(114920, 5)\n",
      "(114920, 5)\n",
      "Энтон Блинк was already fixed\n",
      "(114920, 5)\n",
      "(114920, 5)\n",
      "Макс Бужанск was already fixed\n",
      "(114920, 5)\n",
      "(114920, 5)\n",
      "Натал Мосийчук was already fixed\n",
      "(114920, 5)\n",
      "(114920, 5)\n",
      "коронавірус Галин Слічн was already fixed\n",
      "(114920, 5)\n",
      "(114920, 5)\n",
      "Реджеп Тайип Эрдога was already fixed\n",
      "(114920, 5)\n",
      "(114920, 5)\n",
      "Ердоган was already fixed\n",
      "(114920, 5)\n",
      "(114920, 5)\n",
      "Таїп Ердоган was already fixed\n",
      "(114920, 5)\n",
      "(114920, 5)\n",
      "Боррел was already fixed\n",
      "(114920, 5)\n",
      "(114920, 5)\n",
      "Миха Чаплыг was already fixed\n",
      "(114920, 5)\n",
      "(114920, 5)\n",
      "Серг Надал was already fixed\n",
      "(114920, 5)\n",
      "(114920, 5)\n",
      "Мзс Ян Гамачек was already fixed\n",
      "(114920, 5)\n",
      "(114920, 5)\n",
      "Путін Мзс Рф was already fixed\n",
      "(114920, 5)\n",
      "(114920, 5)\n",
      "Величніст Королев was already fixed\n",
      "(114920, 5)\n",
      "(114920, 5)\n",
      "Королев Єлизавет was already fixed\n",
      "(114920, 5)\n",
      "(114920, 5)\n",
      "Єлизавет І was already fixed\n",
      "(114920, 5)\n",
      "(114920, 5)\n",
      "Єлизавет Друг was already fixed\n",
      "(114920, 5)\n",
      "(114920, 5)\n",
      "Офіс Президент Кирил Тимошенк was already fixed\n",
      "(114920, 5)\n",
      "(114920, 5)\n",
      "Офіс президент Кирил Тимошенк was already fixed\n",
      "(114920, 5)\n",
      "(114920, 5)\n",
      "Величеств Королев was already fixed\n",
      "(114920, 5)\n",
      "(114920, 5)\n",
      "(114919, 5)\n",
      "(114919, 5)\n",
      "(114918, 5)\n",
      "(114918, 5)\n"
     ]
    },
    {
     "name": "stderr",
     "output_type": "stream",
     "text": [
      "/Users/oksana/Dev/TextClassification/venv/lib/python3.7/site-packages/ipykernel_launcher.py:14: SettingWithCopyWarning: \n",
      "A value is trying to be set on a copy of a slice from a DataFrame.\n",
      "Try using .loc[row_indexer,col_indexer] = value instead\n",
      "\n",
      "See the caveats in the documentation: https://pandas.pydata.org/pandas-docs/stable/user_guide/indexing.html#returning-a-view-versus-a-copy\n",
      "  \n",
      "/Users/oksana/Dev/TextClassification/venv/lib/python3.7/site-packages/pandas/core/indexing.py:1720: SettingWithCopyWarning: \n",
      "A value is trying to be set on a copy of a slice from a DataFrame.\n",
      "Try using .loc[row_indexer,col_indexer] = value instead\n",
      "\n",
      "See the caveats in the documentation: https://pandas.pydata.org/pandas-docs/stable/user_guide/indexing.html#returning-a-view-versus-a-copy\n",
      "  self._setitem_single_column(loc, value, pi)\n"
     ]
    },
    {
     "name": "stdout",
     "output_type": "stream",
     "text": [
      "(114917, 5)\n",
      "(114917, 5)\n",
      "(114916, 5)\n",
      "(114916, 5)\n",
      "Сбу Віктор Ягун was already fixed\n",
      "(114916, 5)\n",
      "(114916, 5)\n",
      "(114915, 5)\n",
      "(114915, 5)\n",
      "(114914, 5)\n",
      "(114914, 5)\n",
      "(114913, 5)\n",
      "(114913, 5)\n",
      "Эдгар Ринкевич was already fixed\n",
      "(114913, 5)\n",
      "(114913, 5)\n",
      "(114912, 5)\n",
      "(114912, 5)\n",
      "(114911, 5)\n",
      "(114911, 5)\n",
      "(114910, 5)\n",
      "(114910, 5)\n",
      "(114909, 5)\n",
      "(114909, 5)\n",
      "(114908, 5)\n",
      "(114908, 5)\n",
      "(114907, 5)\n",
      "(114907, 5)\n",
      "Микол Чаус was already fixed\n",
      "(114907, 5)\n",
      "(114907, 5)\n",
      "Никола Чаус was already fixed\n",
      "(114907, 5)\n",
      "(114907, 5)\n",
      "(114906, 5)\n",
      "(114906, 5)\n",
      "(114905, 5)\n",
      "(114905, 5)\n",
      "(114904, 5)\n",
      "(114904, 5)\n",
      "(114903, 5)\n",
      "(114903, 5)\n",
      "(114902, 5)\n",
      "(114902, 5)\n",
      "(114901, 5)\n",
      "(114901, 5)\n",
      "(114900, 5)\n",
      "(114900, 5)\n",
      "(114899, 5)\n",
      "(114899, 5)\n",
      "(114898, 5)\n",
      "(114898, 5)\n",
      "(114897, 5)\n",
      "(114897, 5)\n",
      "(114896, 5)\n",
      "(114896, 5)\n",
      "(114895, 5)\n",
      "(114895, 5)\n",
      "(114894, 5)\n",
      "(114894, 5)\n",
      "(114893, 5)\n",
      "(114893, 5)\n",
      "(114892, 5)\n",
      "(114892, 5)\n",
      "(114891, 5)\n",
      "(114891, 5)\n",
      "(114890, 5)\n",
      "(114890, 5)\n",
      "(114889, 5)\n",
      "(114889, 5)\n",
      "(114888, 5)\n",
      "(114888, 5)\n",
      "(114887, 5)\n",
      "(114887, 5)\n",
      "(114886, 5)\n",
      "(114886, 5)\n",
      "(114885, 5)\n",
      "(114885, 5)\n",
      "(114884, 5)\n",
      "(114884, 5)\n",
      "(114883, 5)\n",
      "(114883, 5)\n",
      "(114882, 5)\n",
      "(114882, 5)\n",
      "(114881, 5)\n",
      "(114881, 5)\n",
      "(114880, 5)\n",
      "(114880, 5)\n",
      "(114879, 5)\n",
      "(114879, 5)\n",
      "Бен Годжес was already fixed\n",
      "(114879, 5)\n",
      "(114879, 5)\n",
      "(114878, 5)\n",
      "(114878, 5)\n",
      "(114877, 5)\n",
      "(114877, 5)\n",
      "(114876, 5)\n",
      "(114876, 5)\n",
      "(114875, 5)\n",
      "(114875, 5)\n",
      "(114874, 5)\n",
      "(114874, 5)\n",
      "(114873, 5)\n",
      "(114873, 5)\n",
      "(114872, 5)\n",
      "(114872, 5)\n",
      "(114871, 5)\n",
      "(114871, 5)\n",
      "(114870, 5)\n",
      "(114870, 5)\n",
      "(114869, 5)\n",
      "(114869, 5)\n",
      "(114868, 5)\n",
      "(114868, 5)\n",
      "(114867, 5)\n",
      "(114867, 5)\n",
      "(114866, 5)\n",
      "(114866, 5)\n",
      "Джерр Райс was already fixed\n",
      "(114866, 5)\n",
      "(114866, 5)\n",
      "(114865, 5)\n",
      "(114865, 5)\n",
      "(114864, 5)\n",
      "(114864, 5)\n",
      "(114863, 5)\n",
      "(114863, 5)\n",
      "(114862, 5)\n",
      "(114862, 5)\n",
      "(114861, 5)\n"
     ]
    }
   ],
   "source": [
    "for k,v in fix_dict.items():\n",
    "    print(names_counts_df.shape)\n",
    "    names_counts_df = fix_name(names_counts_df, k, v, False)\n",
    "    print(names_counts_df.shape)"
   ]
  },
  {
   "cell_type": "code",
   "execution_count": 270,
   "metadata": {},
   "outputs": [],
   "source": [
    "names_counts_df = clean_up(names_counts_df)\n",
    "names_counts_df[['num', 'stem_name', 'all_vars_str', 'id']].to_csv(names_dict_path)"
   ]
  },
  {
   "cell_type": "code",
   "execution_count": null,
   "metadata": {},
   "outputs": [],
   "source": [
    "# to_del = 'Максим Бужанск'\n",
    "# to_expand = 'Макс Бужанськ'\n",
    "# to_del_part = joined_df.loc[to_del]\n",
    "# joined_df.loc[to_expand, 'all_vars'].append(to_del)\n",
    "# joined_df.loc[to_expand, 'num'] += to_del_part.num\n",
    "# if isinstance(to_del_part.all_vars, list):\n",
    "#     for n in to_del_part.all_vars:\n",
    "#         joined_df.loc[to_expand, 'all_vars'].append(n)\n",
    "# joined_df = joined_df[joined_df.index!=to_del]"
   ]
  }
 ],
 "metadata": {
  "kernelspec": {
   "display_name": "Python 3",
   "language": "python",
   "name": "python3"
  },
  "language_info": {
   "codemirror_mode": {
    "name": "ipython",
    "version": 3
   },
   "file_extension": ".py",
   "mimetype": "text/x-python",
   "name": "python",
   "nbconvert_exporter": "python",
   "pygments_lexer": "ipython3",
   "version": "3.7.3"
  }
 },
 "nbformat": 4,
 "nbformat_minor": 4
}
