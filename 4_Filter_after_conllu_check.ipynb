{
 "cells": [
  {
   "cell_type": "markdown",
   "metadata": {},
   "source": [
    "### 4. Filter names that that failed conllu checking"
   ]
  },
  {
   "cell_type": "code",
   "execution_count": 1,
   "metadata": {},
   "outputs": [],
   "source": [
    "import pandas as pd\n",
    "import re\n",
    "from uk_stemmer import UkStemmer\n",
    "from nltk import stem"
   ]
  },
  {
   "cell_type": "code",
   "execution_count": 2,
   "metadata": {},
   "outputs": [],
   "source": [
    "stemmer_ru = stem.snowball.SnowballStemmer(\"russian\") \n",
    "stemmer_ukr = UkStemmer()"
   ]
  },
  {
   "cell_type": "code",
   "execution_count": 3,
   "metadata": {},
   "outputs": [
    {
     "data": {
      "text/plain": [
       "Index(['checked_with_conllu'], dtype='object')"
      ]
     },
     "execution_count": 3,
     "metadata": {},
     "output_type": "execute_result"
    }
   ],
   "source": [
    "checked_filepath = 'checked_with_conllu_may.csv'\n",
    "checked_all = pd.read_csv(checked_filepath, index_col=[0])\n",
    "# checked_all = checked_all.set_index('link')\n",
    "checked_all.columns"
   ]
  },
  {
   "cell_type": "code",
   "execution_count": 7,
   "metadata": {},
   "outputs": [],
   "source": [
    "entities_filepath = '../data/entities_may.csv'\n",
    "entities = pd.read_csv(entities_filepath, index_col=[0])\n",
    "entities.columns"
   ]
  },
  {
   "cell_type": "code",
   "execution_count": 9,
   "metadata": {},
   "outputs": [],
   "source": [
    "entities['checked_with_conllu'] = checked_all['checked_with_conllu']"
   ]
  },
  {
   "cell_type": "code",
   "execution_count": 13,
   "metadata": {},
   "outputs": [],
   "source": [
    "entities['checked_list'] = entities['checked_with_conllu'].apply(lambda checked_str:\n",
    "                                                    [c.strip(\"'\") for c in checked_str.strip('\"[]').split(', ')] \n",
    "                                                    if pd.notna(checked_str) else None)"
   ]
  },
  {
   "cell_type": "code",
   "execution_count": 14,
   "metadata": {},
   "outputs": [],
   "source": [
    "def names_and_kw_str_to_list(names_and_kw_str):\n",
    "    if pd.notna(names_and_kw_str):\n",
    "        res = []\n",
    "        for ent in names_and_kw_str.split('<+>'):\n",
    "            parts = ent.split('<#>')\n",
    "            names = re.findall('(\\(\\d+\\, \\d+\\))<§§>PERS<§§>(.*?)<§§>([\\d\\.]+)', parts[2])\n",
    "            for n in names:\n",
    "                r = [int(i) for i in n[0].strip('()').split(', ')]\n",
    "                res.append( ( int(parts[0]), parts[1], r, n[1], float(n[2]) ) )\n",
    "        return res\n",
    "    return None"
   ]
  },
  {
   "cell_type": "code",
   "execution_count": 15,
   "metadata": {},
   "outputs": [],
   "source": [
    "entities['keyword_entities'] = entities.kw_and_ent.apply(names_and_kw_str_to_list)\n",
    "entities['filt_kw_names'] = entities.filt_kw_names_str.str.split('§')"
   ]
  },
  {
   "cell_type": "code",
   "execution_count": 16,
   "metadata": {},
   "outputs": [],
   "source": [
    "def conllu_filter(entitites_list, filt_names_list, checked_list):\n",
    "    if isinstance(entitites_list, list) and isinstance(filt_names_list, list):\n",
    "        res = []\n",
    "        for i in range(len(entitites_list)):\n",
    "            if (entitites_list[i][3] in filt_names_list) and checked_list[i]=='True':\n",
    "                res.append(entitites_list[i][3])\n",
    "        if len(res)>0:\n",
    "            return res\n",
    "    return None"
   ]
  },
  {
   "cell_type": "code",
   "execution_count": 17,
   "metadata": {},
   "outputs": [],
   "source": [
    "entities['checked_names_list'] = entities.apply(lambda row:\n",
    "                                       conllu_filter(row.keyword_entities, row.filt_kw_names, row.checked_list), axis=1)"
   ]
  },
  {
   "cell_type": "code",
   "execution_count": 19,
   "metadata": {},
   "outputs": [],
   "source": [
    "entities['checked_names_str'] = entities.checked_names_list.str.join('§')"
   ]
  },
  {
   "cell_type": "code",
   "execution_count": 27,
   "metadata": {},
   "outputs": [],
   "source": [
    "entities[['link', 'language', 'all_ent_str', 'name_and_kw', 'kw_and_ent',\n",
    "       'names_and_kw_str', 'names_str', 'names_sets_str',\n",
    "       'one_name_per_set_str', 'string_names_sets_str', 'filt_kw_names_str',\n",
    "       'checked_with_conllu', 'checked_names_str']].to_csv(entities_filepath)"
   ]
  },
  {
   "cell_type": "code",
   "execution_count": 20,
   "metadata": {},
   "outputs": [],
   "source": [
    "def stem_names(names_list, stemmer):\n",
    "    if isinstance(names_list, list): \n",
    "        res=[]\n",
    "        for name in names_list:\n",
    "            stemmed_name = []\n",
    "            for word in name.split():\n",
    "                st = stemmer(word)\n",
    "                if word[0].isupper():\n",
    "                    st = st.capitalize()\n",
    "                stemmed_name.append(st)\n",
    "            res.append(' '.join(stemmed_name))\n",
    "        return res\n",
    "    return None\n",
    "\n",
    "def stem_name(name, stemmer):\n",
    "    stemmed_name = []\n",
    "    for word in name.split():\n",
    "        st = stemmer(word)\n",
    "        if word[0].isupper():\n",
    "            st = st.capitalize()\n",
    "        stemmed_name.append(st)\n",
    "    return ' '.join(stemmed_name)"
   ]
  },
  {
   "cell_type": "code",
   "execution_count": 21,
   "metadata": {},
   "outputs": [],
   "source": [
    "entities['checked_stem_names_list'] = entities.apply(lambda row: \n",
    "                                             stem_names(row.checked_names_list, stemmer_ukr.stem_word) if row.language=='uk'\n",
    "                                             else stem_names(row.checked_names_list, stemmer_ru.stem), axis=1)\n",
    "\n"
   ]
  },
  {
   "cell_type": "code",
   "execution_count": 22,
   "metadata": {},
   "outputs": [],
   "source": [
    "entities['checked_names_unique'] = entities['checked_stem_names_list'].apply(lambda x:\n",
    "                                                                    list(set(x)) if isinstance(x, list) else None)"
   ]
  },
  {
   "cell_type": "markdown",
   "metadata": {},
   "source": [
    "#### Зайве"
   ]
  },
  {
   "cell_type": "code",
   "execution_count": 148,
   "metadata": {},
   "outputs": [],
   "source": [
    "def get_norm_form_for_checked_names(checked_names_list, one_name_per_set, name_sets, filt_kw_names, stemmer):\n",
    "    if isinstance(checked_names_list, list):\n",
    "        res = []\n",
    "        for name in checked_names_list:\n",
    "            if isinstance(one_name_per_set, list):\n",
    "                for i in range(len(one_name_per_set)):\n",
    "                    if name in name_sets[i]:\n",
    "                        res.append(one_name_per_set[i])\n",
    "            elif len(filt_kw_names)==1:\n",
    "                res.append(stem_name(filt_kw_names[0], stemmer))\n",
    "            else:\n",
    "                print(checked_names_list, filt_kw_names)\n",
    "                \n",
    "        return res\n",
    "    return None"
   ]
  },
  {
   "cell_type": "code",
   "execution_count": 150,
   "metadata": {},
   "outputs": [],
   "source": [
    "news['checked_names_norm_form'] = news.apply(lambda row: \n",
    "                                                get_norm_form_for_checked_names(row.checked_names_list,\n",
    "                                                                           row.one_name_per_set,\n",
    "                                                                           row.name_sets,\n",
    "                                                                           row.filt_kw_names,\n",
    "                                                                           stemmer_ukr.stem_word) if row.language=='uk'\n",
    "                                                else get_norm_form_for_checked_names(row.checked_names_list,\n",
    "                                                                           row.one_name_per_set,\n",
    "                                                                           row.name_sets,\n",
    "                                                                           row.filt_kw_names,\n",
    "                                                                          stemmer_ru.stem), axis=1)"
   ]
  },
  {
   "cell_type": "code",
   "execution_count": 153,
   "metadata": {},
   "outputs": [],
   "source": [
    "news['checked_norm_forms_unique'] = news['checked_names_norm_form'].apply(lambda x:\n",
    "                                                                    list(set(x)) if isinstance(x, list) else None)"
   ]
  }
 ],
 "metadata": {
  "kernelspec": {
   "display_name": "Python 3",
   "language": "python",
   "name": "python3"
  },
  "language_info": {
   "codemirror_mode": {
    "name": "ipython",
    "version": 3
   },
   "file_extension": ".py",
   "mimetype": "text/x-python",
   "name": "python",
   "nbconvert_exporter": "python",
   "pygments_lexer": "ipython3",
   "version": "3.7.3"
  }
 },
 "nbformat": 4,
 "nbformat_minor": 4
}
