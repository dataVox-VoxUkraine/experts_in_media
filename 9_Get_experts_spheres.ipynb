{
 "cells": [
  {
   "cell_type": "markdown",
   "metadata": {},
   "source": [
    "### 9. Count experts in every sphere for every category"
   ]
  },
  {
   "cell_type": "code",
   "execution_count": 1,
   "metadata": {},
   "outputs": [],
   "source": [
    "import pandas as pd\n",
    "import os\n",
    "import re\n",
    "from categories_names import cat_dict"
   ]
  },
  {
   "cell_type": "code",
   "execution_count": 2,
   "metadata": {},
   "outputs": [],
   "source": [
    "profiles_path = '/Users/oksana/Dev/Масиви по статтях/datasets/experts_profiles.csv'\n",
    "profiles = pd.read_csv(profiles_path, sep=';')\n",
    "profiles = profiles.set_index('expert_id', drop=False)"
   ]
  },
  {
   "cell_type": "code",
   "execution_count": 3,
   "metadata": {},
   "outputs": [
    {
     "data": {
      "text/plain": [
       "array(['Юриспруденція', 'Бізнес', 'Громадський сектор', 'Держслужба',\n",
       "       'Економічна аналітика', 'Журналістика', 'Медицина',\n",
       "       'Медична аналітика', 'Наука', 'Політика', 'Політологія',\n",
       "       'Політтехнології', 'Релігія', 'Фінансова аналітика', nan,\n",
       "       'Енергетика', 'Металургія', 'Промисловість', 'Військова справа',\n",
       "       'Дипломатія'], dtype=object)"
      ]
     },
     "execution_count": 3,
     "metadata": {},
     "output_type": "execute_result"
    }
   ],
   "source": [
    "profiles['сфера'].unique()"
   ]
  },
  {
   "cell_type": "code",
   "execution_count": 7,
   "metadata": {},
   "outputs": [],
   "source": [
    "month='05'\n",
    "filepath = '/Users/oksana/Dev/Масиви по статтях/datasets/2021/2021_{}/experts_all_{}_2021.csv'.format(month, month)\n",
    "experts_all = pd.read_csv(filepath, sep=';', )\n",
    "experts_all = experts_all.set_index('expert_id', drop=False)\n",
    "# experts_all['num'] = experts_all[experts_all.columns[3:]].sum(axis=1)\n",
    "experts_all = experts_all[experts_all.columns[:3]]\n",
    "experts_all['sphere'] = profiles['сфера']"
   ]
  },
  {
   "cell_type": "code",
   "execution_count": 9,
   "metadata": {},
   "outputs": [],
   "source": [
    "experts_all.sphere = experts_all.sphere.str.strip()"
   ]
  },
  {
   "cell_type": "code",
   "execution_count": 10,
   "metadata": {},
   "outputs": [
    {
     "data": {
      "text/html": [
       "<div>\n",
       "<style scoped>\n",
       "    .dataframe tbody tr th:only-of-type {\n",
       "        vertical-align: middle;\n",
       "    }\n",
       "\n",
       "    .dataframe tbody tr th {\n",
       "        vertical-align: top;\n",
       "    }\n",
       "\n",
       "    .dataframe thead th {\n",
       "        text-align: right;\n",
       "    }\n",
       "</style>\n",
       "<table border=\"1\" class=\"dataframe\">\n",
       "  <thead>\n",
       "    <tr style=\"text-align: right;\">\n",
       "      <th></th>\n",
       "      <th>expert_id</th>\n",
       "      <th>image_name</th>\n",
       "      <th>name</th>\n",
       "      <th>sphere</th>\n",
       "    </tr>\n",
       "    <tr>\n",
       "      <th>expert_id</th>\n",
       "      <th></th>\n",
       "      <th></th>\n",
       "      <th></th>\n",
       "      <th></th>\n",
       "    </tr>\n",
       "  </thead>\n",
       "  <tbody>\n",
       "    <tr>\n",
       "      <th>67</th>\n",
       "      <td>67</td>\n",
       "      <td>o_holubovska</td>\n",
       "      <td>Ольга Голубовська</td>\n",
       "      <td>Медицина</td>\n",
       "    </tr>\n",
       "    <tr>\n",
       "      <th>43</th>\n",
       "      <td>43</td>\n",
       "      <td>y_butusov</td>\n",
       "      <td>Юрій Бутусов</td>\n",
       "      <td>Журналістика</td>\n",
       "    </tr>\n",
       "    <tr>\n",
       "      <th>94</th>\n",
       "      <td>94</td>\n",
       "      <td>s_leshchenko</td>\n",
       "      <td>Сергій Лещенко</td>\n",
       "      <td>Політика</td>\n",
       "    </tr>\n",
       "    <tr>\n",
       "      <th>134</th>\n",
       "      <td>134</td>\n",
       "      <td>o_pendzyn</td>\n",
       "      <td>Олег Пендзин</td>\n",
       "      <td>Економічна аналітика</td>\n",
       "    </tr>\n",
       "    <tr>\n",
       "      <th>136</th>\n",
       "      <td>136</td>\n",
       "      <td>r_bortnyk</td>\n",
       "      <td>Руслан Бортник</td>\n",
       "      <td>Політтехнології</td>\n",
       "    </tr>\n",
       "  </tbody>\n",
       "</table>\n",
       "</div>"
      ],
      "text/plain": [
       "           expert_id    image_name               name                sphere\n",
       "expert_id                                                                  \n",
       "67                67  o_holubovska  Ольга Голубовська              Медицина\n",
       "43                43     y_butusov       Юрій Бутусов          Журналістика\n",
       "94                94  s_leshchenko     Сергій Лещенко              Політика\n",
       "134              134     o_pendzyn       Олег Пендзин  Економічна аналітика\n",
       "136              136     r_bortnyk     Руслан Бортник       Політтехнології"
      ]
     },
     "execution_count": 10,
     "metadata": {},
     "output_type": "execute_result"
    }
   ],
   "source": [
    "experts_all.head()"
   ]
  },
  {
   "cell_type": "code",
   "execution_count": 11,
   "metadata": {},
   "outputs": [
    {
     "data": {
      "text/plain": [
       "sphere\n",
       "Громадський сектор      1\n",
       "Держслужба              1\n",
       "Економічна аналітика    8\n",
       "Журналістика            4\n",
       "Медицина                3\n",
       "Медична аналітика       1\n",
       "Наука                   1\n",
       "Політика                4\n",
       "Політтехнології         4\n",
       "Фінансова аналітика     2\n",
       "Юриспруденція           1\n",
       "dtype: int64"
      ]
     },
     "execution_count": 11,
     "metadata": {},
     "output_type": "execute_result"
    }
   ],
   "source": [
    "experts_all.groupby('sphere').size()"
   ]
  },
  {
   "cell_type": "code",
   "execution_count": 32,
   "metadata": {},
   "outputs": [
    {
     "name": "stdout",
     "output_type": "stream",
     "text": [
      "experts_all_05_2021.csv\n",
      "experts_politics_05_2021.csv\n",
      "experts_economics_05_2021.csv\n",
      "experts_incidents_05_2021.csv\n",
      "experts_affairs_05_2021.csv\n"
     ]
    }
   ],
   "source": [
    "path = '/Users/oksana/Dev/Масиви по статтях/datasets/2021/2021_{}/'.format(month)\n",
    "datasets = os.listdir(path)\n",
    "names = []\n",
    "dfs = {}\n",
    "for d in datasets:\n",
    "    if re.match(r'experts', d):\n",
    "        print(d)\n",
    "        df = pd.read_csv(path+d, sep=';')\n",
    "        cat = d.split('_')[1]\n",
    "        df = df.set_index('expert_id', drop=False)\n",
    "#         df['num'] = df[df.columns[3:]].sum(axis=1)\n",
    "        df = df[df.columns[:3]]\n",
    "        df['sphere'] = profiles['сфера']\n",
    "        try:\n",
    "            cat_name = list(cat_dict.keys())[list(cat_dict.values()).index(cat)]\n",
    "            dfs[cat_name] = df.groupby('sphere').size()\n",
    "        except:\n",
    "            pass"
   ]
  },
  {
   "cell_type": "code",
   "execution_count": 33,
   "metadata": {},
   "outputs": [
    {
     "data": {
      "text/plain": [
       "dict_keys(['Політика', 'Економіка', 'Інциденти', 'Закордонна політика'])"
      ]
     },
     "execution_count": 33,
     "metadata": {},
     "output_type": "execute_result"
    }
   ],
   "source": [
    "dfs.keys()"
   ]
  },
  {
   "cell_type": "code",
   "execution_count": 34,
   "metadata": {},
   "outputs": [
    {
     "data": {
      "text/plain": [
       "sphere\n",
       "Громадський сектор      2\n",
       "Економічна аналітика    1\n",
       "Журналістика            2\n",
       "Медицина                1\n",
       "Політика                5\n",
       "Політологія             2\n",
       "Політтехнології         7\n",
       "Юриспруденція           3\n",
       "dtype: int64"
      ]
     },
     "execution_count": 34,
     "metadata": {},
     "output_type": "execute_result"
    }
   ],
   "source": [
    "dfs['Політика']"
   ]
  },
  {
   "cell_type": "code",
   "execution_count": 35,
   "metadata": {},
   "outputs": [],
   "source": [
    "res = pd.DataFrame(dfs)"
   ]
  },
  {
   "cell_type": "code",
   "execution_count": 36,
   "metadata": {},
   "outputs": [
    {
     "data": {
      "text/html": [
       "<div>\n",
       "<style scoped>\n",
       "    .dataframe tbody tr th:only-of-type {\n",
       "        vertical-align: middle;\n",
       "    }\n",
       "\n",
       "    .dataframe tbody tr th {\n",
       "        vertical-align: top;\n",
       "    }\n",
       "\n",
       "    .dataframe thead th {\n",
       "        text-align: right;\n",
       "    }\n",
       "</style>\n",
       "<table border=\"1\" class=\"dataframe\">\n",
       "  <thead>\n",
       "    <tr style=\"text-align: right;\">\n",
       "      <th>sphere</th>\n",
       "      <th>Громадський сектор</th>\n",
       "      <th>Економічна аналітика</th>\n",
       "      <th>Енергетика</th>\n",
       "      <th>Журналістика</th>\n",
       "      <th>Медицина</th>\n",
       "      <th>Політика</th>\n",
       "      <th>Політологія</th>\n",
       "      <th>Політтехнології</th>\n",
       "      <th>Фінансова аналітика</th>\n",
       "      <th>Юриспруденція</th>\n",
       "    </tr>\n",
       "  </thead>\n",
       "  <tbody>\n",
       "    <tr>\n",
       "      <th>Політика</th>\n",
       "      <td>2</td>\n",
       "      <td>1</td>\n",
       "      <td>&lt;NA&gt;</td>\n",
       "      <td>2</td>\n",
       "      <td>1</td>\n",
       "      <td>5</td>\n",
       "      <td>2</td>\n",
       "      <td>7</td>\n",
       "      <td>&lt;NA&gt;</td>\n",
       "      <td>3</td>\n",
       "    </tr>\n",
       "    <tr>\n",
       "      <th>Економіка</th>\n",
       "      <td>2</td>\n",
       "      <td>7</td>\n",
       "      <td>1</td>\n",
       "      <td>1</td>\n",
       "      <td>&lt;NA&gt;</td>\n",
       "      <td>1</td>\n",
       "      <td>&lt;NA&gt;</td>\n",
       "      <td>2</td>\n",
       "      <td>4</td>\n",
       "      <td>&lt;NA&gt;</td>\n",
       "    </tr>\n",
       "    <tr>\n",
       "      <th>Інциденти</th>\n",
       "      <td>&lt;NA&gt;</td>\n",
       "      <td>&lt;NA&gt;</td>\n",
       "      <td>&lt;NA&gt;</td>\n",
       "      <td>1</td>\n",
       "      <td>&lt;NA&gt;</td>\n",
       "      <td>&lt;NA&gt;</td>\n",
       "      <td>&lt;NA&gt;</td>\n",
       "      <td>&lt;NA&gt;</td>\n",
       "      <td>&lt;NA&gt;</td>\n",
       "      <td>1</td>\n",
       "    </tr>\n",
       "    <tr>\n",
       "      <th>Закордонна політика</th>\n",
       "      <td>1</td>\n",
       "      <td>&lt;NA&gt;</td>\n",
       "      <td>&lt;NA&gt;</td>\n",
       "      <td>&lt;NA&gt;</td>\n",
       "      <td>&lt;NA&gt;</td>\n",
       "      <td>1</td>\n",
       "      <td>&lt;NA&gt;</td>\n",
       "      <td>3</td>\n",
       "      <td>&lt;NA&gt;</td>\n",
       "      <td>&lt;NA&gt;</td>\n",
       "    </tr>\n",
       "  </tbody>\n",
       "</table>\n",
       "</div>"
      ],
      "text/plain": [
       "sphere               Громадський сектор  Економічна аналітика  Енергетика  \\\n",
       "Політика                              2                     1        <NA>   \n",
       "Економіка                             2                     7           1   \n",
       "Інциденти                          <NA>                  <NA>        <NA>   \n",
       "Закордонна політика                   1                  <NA>        <NA>   \n",
       "\n",
       "sphere               Журналістика  Медицина  Політика  Політологія  \\\n",
       "Політика                        2         1         5            2   \n",
       "Економіка                       1      <NA>         1         <NA>   \n",
       "Інциденти                       1      <NA>      <NA>         <NA>   \n",
       "Закордонна політика          <NA>      <NA>         1         <NA>   \n",
       "\n",
       "sphere               Політтехнології  Фінансова аналітика  Юриспруденція  \n",
       "Політика                           7                 <NA>              3  \n",
       "Економіка                          2                    4           <NA>  \n",
       "Інциденти                       <NA>                 <NA>              1  \n",
       "Закордонна політика                3                 <NA>           <NA>  "
      ]
     },
     "execution_count": 36,
     "metadata": {},
     "output_type": "execute_result"
    }
   ],
   "source": [
    "res = res.T\n",
    "res = res.astype('Int64')\n",
    "res"
   ]
  },
  {
   "cell_type": "code",
   "execution_count": 37,
   "metadata": {},
   "outputs": [],
   "source": [
    "res.to_csv('sphere_all_{}_2021.csv'.format(month), sep=';')"
   ]
  }
 ],
 "metadata": {
  "kernelspec": {
   "display_name": "Python 3",
   "language": "python",
   "name": "python3"
  },
  "language_info": {
   "codemirror_mode": {
    "name": "ipython",
    "version": 3
   },
   "file_extension": ".py",
   "mimetype": "text/x-python",
   "name": "python",
   "nbconvert_exporter": "python",
   "pygments_lexer": "ipython3",
   "version": "3.7.3"
  }
 },
 "nbformat": 4,
 "nbformat_minor": 4
}
